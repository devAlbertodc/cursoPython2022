{
 "cells": [
  {
   "cell_type": "markdown",
   "id": "ddac680d",
   "metadata": {},
   "source": [
    "- Esto es un texto"
   ]
  },
  {
   "cell_type": "code",
   "execution_count": null,
   "id": "e57d2af0",
   "metadata": {},
   "outputs": [],
   "source": [
    "print(\"Pruebas\")"
   ]
  },
  {
   "cell_type": "code",
   "execution_count": null,
   "id": "9b425211",
   "metadata": {},
   "outputs": [],
   "source": [
    "print(\"Test\")\n",
    " -Esto es un texto"
   ]
  }
 ],
 "metadata": {
  "kernelspec": {
   "display_name": "Python 3 (ipykernel)",
   "language": "python",
   "name": "python3"
  },
  "language_info": {
   "codemirror_mode": {
    "name": "ipython",
    "version": 3
   },
   "file_extension": ".py",
   "mimetype": "text/x-python",
   "name": "python",
   "nbconvert_exporter": "python",
   "pygments_lexer": "ipython3",
   "version": "3.9.5"
  }
 },
 "nbformat": 4,
 "nbformat_minor": 5
}
